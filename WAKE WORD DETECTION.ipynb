{
 "cells": [
  {
   "cell_type": "code",
   "execution_count": 1,
   "metadata": {},
   "outputs": [],
   "source": [
    "import pvporcupine"
   ]
  },
  {
   "cell_type": "code",
   "execution_count": 2,
   "metadata": {},
   "outputs": [],
   "source": [
    "import pvporcupine"
   ]
  },
  {
   "cell_type": "code",
   "execution_count": 3,
   "metadata": {},
   "outputs": [
    {
     "name": "stdout",
     "output_type": "stream",
     "text": [
      "pico clock\n",
      "blueberry\n",
      "bumblebee\n",
      "ok google\n",
      "grasshopper\n",
      "americano\n",
      "picovoice\n",
      "porcupine\n",
      "terminator\n",
      "jarvis\n",
      "computer\n",
      "grapefruit\n",
      "hey barista\n",
      "alexa\n",
      "hey google\n",
      "hey siri\n"
     ]
    }
   ],
   "source": [
    "for keyword in pvporcupine.KEYWORDS:\n",
    "    print(keyword)"
   ]
  },
  {
   "cell_type": "code",
   "execution_count": 4,
   "metadata": {},
   "outputs": [],
   "source": [
    "key = \"PIZlZJPGRmtG+ZqSBQNHdgObhykHhjdqle2t92fwecEVQQokvSElXQ==\""
   ]
  },
  {
   "cell_type": "code",
   "execution_count": 5,
   "metadata": {},
   "outputs": [],
   "source": [
    "porcupine = pvporcupine.create(\n",
    "    access_key=key,\n",
    "    keywords=['alexa', 'americano', 'blueberry', 'bumblebee', 'grapefruit', 'grasshopper', 'hey google', 'hey siri', 'jarvis', 'ok google', 'picovoice', 'porcupine', 'terminator'])"
   ]
  },
  {
   "cell_type": "code",
   "execution_count": null,
   "metadata": {},
   "outputs": [],
   "source": []
  }
 ],
 "metadata": {
  "kernelspec": {
   "display_name": "base",
   "language": "python",
   "name": "python3"
  },
  "language_info": {
   "codemirror_mode": {
    "name": "ipython",
    "version": 3
   },
   "file_extension": ".py",
   "mimetype": "text/x-python",
   "name": "python",
   "nbconvert_exporter": "python",
   "pygments_lexer": "ipython3",
   "version": "3.10.9"
  },
  "orig_nbformat": 4
 },
 "nbformat": 4,
 "nbformat_minor": 2
}
